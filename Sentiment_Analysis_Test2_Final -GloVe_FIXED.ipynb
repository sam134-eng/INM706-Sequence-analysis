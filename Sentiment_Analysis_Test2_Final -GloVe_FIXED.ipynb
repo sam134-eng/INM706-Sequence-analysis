{
  "cells": [
    {
      "cell_type": "markdown",
      "metadata": {
        "id": "view-in-github",
        "colab_type": "text"
      },
      "source": [
        "<a href=\"https://colab.research.google.com/github/sam134-eng/INM706-Sequence-analysis/blob/main/Sentiment_Analysis_Test2_Final%20-GloVe_FIXED.ipynb\" target=\"_parent\"><img src=\"https://colab.research.google.com/assets/colab-badge.svg\" alt=\"Open In Colab\"/></a>"
      ]
    },
    {
      "cell_type": "code",
      "execution_count": 1,
      "id": "942e295c",
      "metadata": {
        "id": "942e295c",
        "colab": {
          "base_uri": "https://localhost:8080/",
          "height": 220
        },
        "outputId": "25c4f471-696c-4987-a04f-86ea5eddf534"
      },
      "outputs": [
        {
          "output_type": "display_data",
          "data": {
            "text/plain": [
              "<IPython.core.display.Javascript object>"
            ],
            "application/javascript": [
              "\n",
              "        window._wandbApiKey = new Promise((resolve, reject) => {\n",
              "            function loadScript(url) {\n",
              "            return new Promise(function(resolve, reject) {\n",
              "                let newScript = document.createElement(\"script\");\n",
              "                newScript.onerror = reject;\n",
              "                newScript.onload = resolve;\n",
              "                document.body.appendChild(newScript);\n",
              "                newScript.src = url;\n",
              "            });\n",
              "            }\n",
              "            loadScript(\"https://cdn.jsdelivr.net/npm/postmate/build/postmate.min.js\").then(() => {\n",
              "            const iframe = document.createElement('iframe')\n",
              "            iframe.style.cssText = \"width:0;height:0;border:none\"\n",
              "            document.body.appendChild(iframe)\n",
              "            const handshake = new Postmate({\n",
              "                container: iframe,\n",
              "                url: 'https://wandb.ai/authorize'\n",
              "            });\n",
              "            const timeout = setTimeout(() => reject(\"Couldn't auto authenticate\"), 5000)\n",
              "            handshake.then(function(child) {\n",
              "                child.on('authorize', data => {\n",
              "                    clearTimeout(timeout)\n",
              "                    resolve(data)\n",
              "                });\n",
              "            });\n",
              "            })\n",
              "        });\n",
              "    "
            ]
          },
          "metadata": {}
        },
        {
          "output_type": "stream",
          "name": "stderr",
          "text": [
            "\u001b[34m\u001b[1mwandb\u001b[0m: Logging into wandb.ai. (Learn how to deploy a W&B server locally: https://wandb.me/wandb-server)\n",
            "\u001b[34m\u001b[1mwandb\u001b[0m: You can find your API key in your browser here: https://wandb.ai/authorize\n",
            "wandb: Paste an API key from your profile and hit enter:"
          ]
        },
        {
          "name": "stdout",
          "output_type": "stream",
          "text": [
            " ··········\n"
          ]
        },
        {
          "output_type": "stream",
          "name": "stderr",
          "text": [
            "\u001b[34m\u001b[1mwandb\u001b[0m: \u001b[33mWARNING\u001b[0m If you're specifying your api key in code, ensure this code is not shared publicly.\n",
            "\u001b[34m\u001b[1mwandb\u001b[0m: \u001b[33mWARNING\u001b[0m Consider setting the WANDB_API_KEY environment variable, or running `wandb login` from the command line.\n",
            "\u001b[34m\u001b[1mwandb\u001b[0m: No netrc file found, creating one.\n",
            "\u001b[34m\u001b[1mwandb\u001b[0m: Appending key for api.wandb.ai to your netrc file: /root/.netrc\n",
            "\u001b[34m\u001b[1mwandb\u001b[0m: Currently logged in as: \u001b[33msamraggig55\u001b[0m (\u001b[33msamraggig55-city-university-of-london\u001b[0m) to \u001b[32mhttps://api.wandb.ai\u001b[0m. Use \u001b[1m`wandb login --relogin`\u001b[0m to force relogin\n"
          ]
        },
        {
          "output_type": "execute_result",
          "data": {
            "text/plain": [
              "True"
            ]
          },
          "metadata": {},
          "execution_count": 1
        }
      ],
      "source": [
        "!pip install wandb --quiet\n",
        "\n",
        "import wandb\n",
        "wandb.login()\n"
      ]
    },
    {
      "cell_type": "code",
      "execution_count": 2,
      "id": "e6ebae23",
      "metadata": {
        "colab": {
          "base_uri": "https://localhost:8080/"
        },
        "id": "e6ebae23",
        "outputId": "d5504757-f4da-4e15-e4cf-927a3276ef6f"
      },
      "outputs": [
        {
          "output_type": "stream",
          "name": "stdout",
          "text": [
            "Requirement already satisfied: nltk in /usr/local/lib/python3.11/dist-packages (3.9.1)\n",
            "Requirement already satisfied: click in /usr/local/lib/python3.11/dist-packages (from nltk) (8.2.0)\n",
            "Requirement already satisfied: joblib in /usr/local/lib/python3.11/dist-packages (from nltk) (1.5.0)\n",
            "Requirement already satisfied: regex>=2021.8.3 in /usr/local/lib/python3.11/dist-packages (from nltk) (2024.11.6)\n",
            "Requirement already satisfied: tqdm in /usr/local/lib/python3.11/dist-packages (from nltk) (4.67.1)\n"
          ]
        },
        {
          "output_type": "stream",
          "name": "stderr",
          "text": [
            "[nltk_data] Downloading package punkt to /root/nltk_data...\n",
            "[nltk_data]   Unzipping tokenizers/punkt.zip.\n"
          ]
        }
      ],
      "source": [
        "!pip install nltk\n",
        "import nltk\n",
        "nltk.download('punkt')\n",
        "\n",
        "import re\n",
        "import torch\n",
        "import torch.nn as nn\n",
        "import torch.optim as optim\n",
        "from torch.utils.data import Dataset, DataLoader\n",
        "from torch.nn.utils.rnn import pad_sequence\n",
        "import pandas as pd\n",
        "from nltk.tokenize import word_tokenize\n",
        "from collections import Counter\n",
        "from sklearn.model_selection import train_test_split\n",
        "from sklearn.metrics import classification_report, confusion_matrix\n",
        "import matplotlib.pyplot as plt\n",
        "import seaborn as sns\n",
        "import numpy as np\n"
      ]
    },
    {
      "cell_type": "code",
      "execution_count": 3,
      "id": "044c8c4e",
      "metadata": {
        "colab": {
          "base_uri": "https://localhost:8080/",
          "height": 73
        },
        "id": "044c8c4e",
        "outputId": "71fffc4f-66a1-457f-d8a4-505c156dc6c5"
      },
      "outputs": [
        {
          "output_type": "display_data",
          "data": {
            "text/plain": [
              "<IPython.core.display.HTML object>"
            ],
            "text/html": [
              "\n",
              "     <input type=\"file\" id=\"files-1e34179a-09ae-4b87-ad88-4ab8231d361b\" name=\"files[]\" multiple disabled\n",
              "        style=\"border:none\" />\n",
              "     <output id=\"result-1e34179a-09ae-4b87-ad88-4ab8231d361b\">\n",
              "      Upload widget is only available when the cell has been executed in the\n",
              "      current browser session. Please rerun this cell to enable.\n",
              "      </output>\n",
              "      <script>// Copyright 2017 Google LLC\n",
              "//\n",
              "// Licensed under the Apache License, Version 2.0 (the \"License\");\n",
              "// you may not use this file except in compliance with the License.\n",
              "// You may obtain a copy of the License at\n",
              "//\n",
              "//      http://www.apache.org/licenses/LICENSE-2.0\n",
              "//\n",
              "// Unless required by applicable law or agreed to in writing, software\n",
              "// distributed under the License is distributed on an \"AS IS\" BASIS,\n",
              "// WITHOUT WARRANTIES OR CONDITIONS OF ANY KIND, either express or implied.\n",
              "// See the License for the specific language governing permissions and\n",
              "// limitations under the License.\n",
              "\n",
              "/**\n",
              " * @fileoverview Helpers for google.colab Python module.\n",
              " */\n",
              "(function(scope) {\n",
              "function span(text, styleAttributes = {}) {\n",
              "  const element = document.createElement('span');\n",
              "  element.textContent = text;\n",
              "  for (const key of Object.keys(styleAttributes)) {\n",
              "    element.style[key] = styleAttributes[key];\n",
              "  }\n",
              "  return element;\n",
              "}\n",
              "\n",
              "// Max number of bytes which will be uploaded at a time.\n",
              "const MAX_PAYLOAD_SIZE = 100 * 1024;\n",
              "\n",
              "function _uploadFiles(inputId, outputId) {\n",
              "  const steps = uploadFilesStep(inputId, outputId);\n",
              "  const outputElement = document.getElementById(outputId);\n",
              "  // Cache steps on the outputElement to make it available for the next call\n",
              "  // to uploadFilesContinue from Python.\n",
              "  outputElement.steps = steps;\n",
              "\n",
              "  return _uploadFilesContinue(outputId);\n",
              "}\n",
              "\n",
              "// This is roughly an async generator (not supported in the browser yet),\n",
              "// where there are multiple asynchronous steps and the Python side is going\n",
              "// to poll for completion of each step.\n",
              "// This uses a Promise to block the python side on completion of each step,\n",
              "// then passes the result of the previous step as the input to the next step.\n",
              "function _uploadFilesContinue(outputId) {\n",
              "  const outputElement = document.getElementById(outputId);\n",
              "  const steps = outputElement.steps;\n",
              "\n",
              "  const next = steps.next(outputElement.lastPromiseValue);\n",
              "  return Promise.resolve(next.value.promise).then((value) => {\n",
              "    // Cache the last promise value to make it available to the next\n",
              "    // step of the generator.\n",
              "    outputElement.lastPromiseValue = value;\n",
              "    return next.value.response;\n",
              "  });\n",
              "}\n",
              "\n",
              "/**\n",
              " * Generator function which is called between each async step of the upload\n",
              " * process.\n",
              " * @param {string} inputId Element ID of the input file picker element.\n",
              " * @param {string} outputId Element ID of the output display.\n",
              " * @return {!Iterable<!Object>} Iterable of next steps.\n",
              " */\n",
              "function* uploadFilesStep(inputId, outputId) {\n",
              "  const inputElement = document.getElementById(inputId);\n",
              "  inputElement.disabled = false;\n",
              "\n",
              "  const outputElement = document.getElementById(outputId);\n",
              "  outputElement.innerHTML = '';\n",
              "\n",
              "  const pickedPromise = new Promise((resolve) => {\n",
              "    inputElement.addEventListener('change', (e) => {\n",
              "      resolve(e.target.files);\n",
              "    });\n",
              "  });\n",
              "\n",
              "  const cancel = document.createElement('button');\n",
              "  inputElement.parentElement.appendChild(cancel);\n",
              "  cancel.textContent = 'Cancel upload';\n",
              "  const cancelPromise = new Promise((resolve) => {\n",
              "    cancel.onclick = () => {\n",
              "      resolve(null);\n",
              "    };\n",
              "  });\n",
              "\n",
              "  // Wait for the user to pick the files.\n",
              "  const files = yield {\n",
              "    promise: Promise.race([pickedPromise, cancelPromise]),\n",
              "    response: {\n",
              "      action: 'starting',\n",
              "    }\n",
              "  };\n",
              "\n",
              "  cancel.remove();\n",
              "\n",
              "  // Disable the input element since further picks are not allowed.\n",
              "  inputElement.disabled = true;\n",
              "\n",
              "  if (!files) {\n",
              "    return {\n",
              "      response: {\n",
              "        action: 'complete',\n",
              "      }\n",
              "    };\n",
              "  }\n",
              "\n",
              "  for (const file of files) {\n",
              "    const li = document.createElement('li');\n",
              "    li.append(span(file.name, {fontWeight: 'bold'}));\n",
              "    li.append(span(\n",
              "        `(${file.type || 'n/a'}) - ${file.size} bytes, ` +\n",
              "        `last modified: ${\n",
              "            file.lastModifiedDate ? file.lastModifiedDate.toLocaleDateString() :\n",
              "                                    'n/a'} - `));\n",
              "    const percent = span('0% done');\n",
              "    li.appendChild(percent);\n",
              "\n",
              "    outputElement.appendChild(li);\n",
              "\n",
              "    const fileDataPromise = new Promise((resolve) => {\n",
              "      const reader = new FileReader();\n",
              "      reader.onload = (e) => {\n",
              "        resolve(e.target.result);\n",
              "      };\n",
              "      reader.readAsArrayBuffer(file);\n",
              "    });\n",
              "    // Wait for the data to be ready.\n",
              "    let fileData = yield {\n",
              "      promise: fileDataPromise,\n",
              "      response: {\n",
              "        action: 'continue',\n",
              "      }\n",
              "    };\n",
              "\n",
              "    // Use a chunked sending to avoid message size limits. See b/62115660.\n",
              "    let position = 0;\n",
              "    do {\n",
              "      const length = Math.min(fileData.byteLength - position, MAX_PAYLOAD_SIZE);\n",
              "      const chunk = new Uint8Array(fileData, position, length);\n",
              "      position += length;\n",
              "\n",
              "      const base64 = btoa(String.fromCharCode.apply(null, chunk));\n",
              "      yield {\n",
              "        response: {\n",
              "          action: 'append',\n",
              "          file: file.name,\n",
              "          data: base64,\n",
              "        },\n",
              "      };\n",
              "\n",
              "      let percentDone = fileData.byteLength === 0 ?\n",
              "          100 :\n",
              "          Math.round((position / fileData.byteLength) * 100);\n",
              "      percent.textContent = `${percentDone}% done`;\n",
              "\n",
              "    } while (position < fileData.byteLength);\n",
              "  }\n",
              "\n",
              "  // All done.\n",
              "  yield {\n",
              "    response: {\n",
              "      action: 'complete',\n",
              "    }\n",
              "  };\n",
              "}\n",
              "\n",
              "scope.google = scope.google || {};\n",
              "scope.google.colab = scope.google.colab || {};\n",
              "scope.google.colab._files = {\n",
              "  _uploadFiles,\n",
              "  _uploadFilesContinue,\n",
              "};\n",
              "})(self);\n",
              "</script> "
            ]
          },
          "metadata": {}
        },
        {
          "output_type": "stream",
          "name": "stdout",
          "text": [
            "Saving Tweets.csv to Tweets.csv\n"
          ]
        }
      ],
      "source": [
        "from google.colab import files\n",
        "uploaded = files.upload()\n",
        "\n",
        "df = pd.read_csv(\"Tweets.csv\")\n",
        "df = df[['text', 'airline_sentiment']]\n",
        "df = df[df['airline_sentiment'].isin(['positive', 'neutral', 'negative'])]\n",
        "df['label'] = df['airline_sentiment'].map({'negative': 0, 'neutral': 1, 'positive': 2})\n",
        "\n",
        "def clean_text(text):\n",
        "    text = re.sub(r\"http\\S+\", \"\", text)\n",
        "    text = re.sub(r\"@\\w+\", \"\", text)\n",
        "    text = re.sub(r\"[^a-zA-Z\\s]\", \"\", text)\n",
        "    return text.lower().strip()\n",
        "\n",
        "df[\"clean_text\"] = df[\"text\"].apply(clean_text)\n"
      ]
    },
    {
      "cell_type": "code",
      "execution_count": 4,
      "id": "0fbdd795",
      "metadata": {
        "colab": {
          "base_uri": "https://localhost:8080/"
        },
        "id": "0fbdd795",
        "outputId": "f30a45dd-b514-4824-c7e4-ac4dac185f14"
      },
      "outputs": [
        {
          "output_type": "stream",
          "name": "stdout",
          "text": [
            "Requirement already satisfied: nltk in /usr/local/lib/python3.11/dist-packages (3.9.1)\n",
            "Requirement already satisfied: click in /usr/local/lib/python3.11/dist-packages (from nltk) (8.2.0)\n",
            "Requirement already satisfied: joblib in /usr/local/lib/python3.11/dist-packages (from nltk) (1.5.0)\n",
            "Requirement already satisfied: regex>=2021.8.3 in /usr/local/lib/python3.11/dist-packages (from nltk) (2024.11.6)\n",
            "Requirement already satisfied: tqdm in /usr/local/lib/python3.11/dist-packages (from nltk) (4.67.1)\n"
          ]
        },
        {
          "output_type": "stream",
          "name": "stderr",
          "text": [
            "[nltk_data] Downloading package punkt to /root/nltk_data...\n",
            "[nltk_data]   Package punkt is already up-to-date!\n",
            "[nltk_data] Downloading package punkt_tab to /root/nltk_data...\n",
            "[nltk_data]   Unzipping tokenizers/punkt_tab.zip.\n"
          ]
        }
      ],
      "source": [
        "!pip install nltk\n",
        "import nltk\n",
        "# Download the necessary NLTK resources, including punkt_tab\n",
        "nltk.download('punkt')\n",
        "nltk.download('punkt_tab')\n",
        "\n",
        "import re\n",
        "import torch\n",
        "import torch.nn as nn\n",
        "import torch.optim as optim\n",
        "from torch.utils.data import Dataset, DataLoader\n",
        "from torch.nn.utils.rnn import pad_sequence\n",
        "import pandas as pd\n",
        "from nltk.tokenize import word_tokenize\n",
        "from collections import Counter\n",
        "from sklearn.model_selection import train_test_split\n",
        "from sklearn.metrics import classification_report, confusion_matrix\n",
        "import matplotlib.pyplot as plt\n",
        "import seaborn as sns\n",
        "import numpy as np"
      ]
    },
    {
      "cell_type": "code",
      "source": [
        "from sklearn.model_selection import train_test_split\n",
        "from torch.utils.data import Dataset, DataLoader\n",
        "import torch\n",
        "\n",
        "\n",
        "# First, tokenize the cleaned text\n",
        "df['tokens'] = df['clean_text'].apply(word_tokenize)\n",
        "\n",
        "# Create a vocabulary and word-to-index mapping\n",
        "all_tokens = [token for tokens in df['tokens'] for token in tokens]\n",
        "vocab = Counter(all_tokens)\n",
        "# Add a padding token at index 0\n",
        "word_to_index = {'<pad>': 0}\n",
        "word_to_index.update({word: i + 1 for i, (word, _) in enumerate(vocab.most_common())})\n",
        "\n",
        "# Convert tokens to indices\n",
        "df['indexed_tokens'] = df['tokens'].apply(lambda tokens: [word_to_index.get(token, word_to_index.get('<unk>', 0)) for token in tokens])\n",
        "\n",
        "# Pad the sequences\n",
        "# Determine the maximum sequence length\n",
        "max_seq_length = max(len(x) for x in df['indexed_tokens'])\n",
        "\n",
        "# Pad or truncate sequences to the maximum length\n",
        "def pad_sequences(sequences, maxlen, padding='post', value=0):\n",
        "    padded_sequences = []\n",
        "    for seq in sequences:\n",
        "        if len(seq) < maxlen:\n",
        "            if padding == 'post':\n",
        "                padded_seq = seq + [value] * (maxlen - len(seq))\n",
        "            else: # padding == 'pre'\n",
        "                 padded_seq = [value] * (maxlen - len(seq)) + seq\n",
        "        else:\n",
        "            padded_seq = seq[:maxlen]\n",
        "        padded_sequences.append(padded_seq)\n",
        "    return torch.tensor(padded_sequences, dtype=torch.long)\n",
        "\n",
        "X = pad_sequences(df['indexed_tokens'], max_seq_length)\n",
        "y = torch.tensor(df['label'].values, dtype=torch.long)\n",
        "\n",
        "\n",
        "# Split data into training and testing sets\n",
        "X_train, X_test, y_train, y_test = train_test_split(X, y, test_size=0.2, random_state=42, stratify=y)\n",
        "\n",
        "\n",
        "class SentimentDataset(Dataset):\n",
        "    def __init__(self, texts, labels):\n",
        "        self.texts = texts\n",
        "        self.labels = labels\n",
        "\n",
        "    def __len__(self):\n",
        "        return len(self.texts)\n",
        "\n",
        "    def __getitem__(self, idx):\n",
        "        return self.texts[idx], self.labels[idx]\n",
        "\n",
        "# Create DataLoader instances\n",
        "train_loader = DataLoader(SentimentDataset(X_train, y_train), batch_size=32, shuffle=True)\n",
        "test_loader = DataLoader(SentimentDataset(X_test, y_test), batch_size=32)\n",
        "\n",
        "# Sanity check: Ensure indices are within embedding range\n",
        "# Use X instead of encoded_texts, as X contains the padded indexed tokens\n",
        "max_id = X.max().item()\n",
        "print(f\"Max token index: {max_id}, Vocab size: {len(vocab)}\")"
      ],
      "metadata": {
        "colab": {
          "base_uri": "https://localhost:8080/"
        },
        "id": "KB8YATeCBgD4",
        "outputId": "b8458ecc-b997-4dd7-ff02-dde0ef381c84"
      },
      "id": "KB8YATeCBgD4",
      "execution_count": 5,
      "outputs": [
        {
          "output_type": "stream",
          "name": "stdout",
          "text": [
            "Max token index: 12559, Vocab size: 12559\n"
          ]
        }
      ]
    },
    {
      "cell_type": "code",
      "source": [
        "# implement GloVe Embedding Integration\n",
        "!wget http://nlp.stanford.edu/data/glove.6B.zip\n",
        "!unzip -q glove.6B.zip\n",
        "\n",
        "embedding_dim = 100\n",
        "glove_path = \"glove.6B.100d.txt\"\n",
        "\n",
        "glove_embeddings = {}\n",
        "with open(glove_path, 'r', encoding='utf-8') as f:\n",
        "    for line in f:\n",
        "        parts = line.strip().split()\n",
        "        word = parts[0]\n",
        "        vector = np.array(parts[1:], dtype='float32')\n",
        "        glove_embeddings[word] = vector\n",
        "\n",
        "# Change here: Use len(word_to_index) for the embedding matrix size\n",
        "embedding_matrix = np.zeros((len(word_to_index), embedding_dim))\n",
        "# Iterate through word_to_index to correctly map words to indices\n",
        "for word, idx in word_to_index.items():\n",
        "    # Skip the padding token as its vector is already initialized to zeros\n",
        "    if word != '<pad>':\n",
        "        vector = glove_embeddings.get(word)\n",
        "        if vector is not None:\n",
        "            embedding_matrix[idx] = vector"
      ],
      "metadata": {
        "colab": {
          "base_uri": "https://localhost:8080/"
        },
        "id": "EZsyJbxcDGEr",
        "outputId": "75d4f4df-f752-4137-c6ee-6b217689b516"
      },
      "id": "EZsyJbxcDGEr",
      "execution_count": 6,
      "outputs": [
        {
          "output_type": "stream",
          "name": "stdout",
          "text": [
            "--2025-05-26 23:13:38--  http://nlp.stanford.edu/data/glove.6B.zip\n",
            "Resolving nlp.stanford.edu (nlp.stanford.edu)... 171.64.67.140\n",
            "Connecting to nlp.stanford.edu (nlp.stanford.edu)|171.64.67.140|:80... connected.\n",
            "HTTP request sent, awaiting response... 302 Found\n",
            "Location: https://nlp.stanford.edu/data/glove.6B.zip [following]\n",
            "--2025-05-26 23:13:38--  https://nlp.stanford.edu/data/glove.6B.zip\n",
            "Connecting to nlp.stanford.edu (nlp.stanford.edu)|171.64.67.140|:443... connected.\n",
            "HTTP request sent, awaiting response... 301 Moved Permanently\n",
            "Location: https://downloads.cs.stanford.edu/nlp/data/glove.6B.zip [following]\n",
            "--2025-05-26 23:13:39--  https://downloads.cs.stanford.edu/nlp/data/glove.6B.zip\n",
            "Resolving downloads.cs.stanford.edu (downloads.cs.stanford.edu)... 171.64.64.22\n",
            "Connecting to downloads.cs.stanford.edu (downloads.cs.stanford.edu)|171.64.64.22|:443... connected.\n",
            "HTTP request sent, awaiting response... 200 OK\n",
            "Length: 862182613 (822M) [application/zip]\n",
            "Saving to: ‘glove.6B.zip’\n",
            "\n",
            "glove.6B.zip        100%[===================>] 822.24M  5.02MB/s    in 2m 39s  \n",
            "\n",
            "2025-05-26 23:16:19 (5.17 MB/s) - ‘glove.6B.zip’ saved [862182613/862182613]\n",
            "\n"
          ]
        }
      ]
    },
    {
      "cell_type": "code",
      "source": [
        "# Install and initialize Weights & Biases\n",
        "!pip install wandb --quiet\n",
        "\n",
        "import wandb\n",
        "wandb.login()\n",
        "\n",
        "wandb.init(\n",
        "    project=\"Sentiment-LSTM-GloVe\",\n",
        "    name=\"Test2_LSTM_GloVe\",\n",
        "    config={\n",
        "        \"embedding\": \"GloVe\",\n",
        "        \"model\": \"LSTM\",\n",
        "        \"hidden_dim\": 128,\n",
        "        \"dropout\": 0.3,\n",
        "        \"batch_size\": 64,\n",
        "        \"learning_rate\": 0.001,\n",
        "        \"epochs\": 10\n",
        "    }\n",
        ")\n"
      ],
      "metadata": {
        "colab": {
          "base_uri": "https://localhost:8080/",
          "height": 125
        },
        "id": "ZOL0C2W2dFE4",
        "outputId": "95988bc6-ddd2-4bf3-a608-cae0767951ad"
      },
      "id": "ZOL0C2W2dFE4",
      "execution_count": 7,
      "outputs": [
        {
          "output_type": "display_data",
          "data": {
            "text/plain": [
              "<IPython.core.display.HTML object>"
            ],
            "text/html": [
              "Tracking run with wandb version 0.19.11"
            ]
          },
          "metadata": {}
        },
        {
          "output_type": "display_data",
          "data": {
            "text/plain": [
              "<IPython.core.display.HTML object>"
            ],
            "text/html": [
              "Run data is saved locally in <code>/content/wandb/run-20250526_231700-wkjn4j4u</code>"
            ]
          },
          "metadata": {}
        },
        {
          "output_type": "display_data",
          "data": {
            "text/plain": [
              "<IPython.core.display.HTML object>"
            ],
            "text/html": [
              "Syncing run <strong><a href='https://wandb.ai/samraggig55-city-university-of-london/Sentiment-LSTM-GloVe/runs/wkjn4j4u' target=\"_blank\">Test2_LSTM_GloVe</a></strong> to <a href='https://wandb.ai/samraggig55-city-university-of-london/Sentiment-LSTM-GloVe' target=\"_blank\">Weights & Biases</a> (<a href='https://wandb.me/developer-guide' target=\"_blank\">docs</a>)<br>"
            ]
          },
          "metadata": {}
        },
        {
          "output_type": "display_data",
          "data": {
            "text/plain": [
              "<IPython.core.display.HTML object>"
            ],
            "text/html": [
              " View project at <a href='https://wandb.ai/samraggig55-city-university-of-london/Sentiment-LSTM-GloVe' target=\"_blank\">https://wandb.ai/samraggig55-city-university-of-london/Sentiment-LSTM-GloVe</a>"
            ]
          },
          "metadata": {}
        },
        {
          "output_type": "display_data",
          "data": {
            "text/plain": [
              "<IPython.core.display.HTML object>"
            ],
            "text/html": [
              " View run at <a href='https://wandb.ai/samraggig55-city-university-of-london/Sentiment-LSTM-GloVe/runs/wkjn4j4u' target=\"_blank\">https://wandb.ai/samraggig55-city-university-of-london/Sentiment-LSTM-GloVe/runs/wkjn4j4u</a>"
            ]
          },
          "metadata": {}
        },
        {
          "output_type": "execute_result",
          "data": {
            "text/html": [
              "<button onClick=\"this.nextSibling.style.display='block';this.style.display='none';\">Display W&B run</button><iframe src='https://wandb.ai/samraggig55-city-university-of-london/Sentiment-LSTM-GloVe/runs/wkjn4j4u?jupyter=true' style='border:none;width:100%;height:420px;display:none;'></iframe>"
            ],
            "text/plain": [
              "<wandb.sdk.wandb_run.Run at 0x7ce0b0f9b090>"
            ]
          },
          "metadata": {},
          "execution_count": 7
        }
      ]
    },
    {
      "cell_type": "code",
      "source": [
        "import torch\n",
        "import torch.nn as nn\n",
        "import torch.optim as optim\n",
        "from sklearn.utils.class_weight import compute_class_weight\n",
        "import numpy as np\n",
        "\n",
        "# Check for GPU availability and set the device\n",
        "device = torch.device(\"cuda\" if torch.cuda.is_available() else \"cpu\")\n",
        "\n",
        "# --- 1. Compute Class Weights ---\n",
        "# These weights help handle class imbalance by penalizing underrepresented classes more.\n",
        "\n",
        "# Get the unique classes actually present in y_train\n",
        "# Convert y_train to numpy array and get unique values\n",
        "unique_classes_in_y_train = np.unique(y_train.cpu().numpy())\n",
        "\n",
        "class_weights = compute_class_weight(class_weight='balanced',\n",
        "                                     classes=unique_classes_in_y_train,  # Use unique classes from y_train\n",
        "                                     y=y_train.cpu().numpy()) # Convert y_train to a NumPy array\n",
        "weights = torch.tensor(class_weights, dtype=torch.float).to(device)\n",
        "\n",
        "# Define weighted loss criterion\n",
        "criterion = nn.CrossEntropyLoss(weight=weights)\n",
        "\n",
        "# --- 2. Define Bidirectional LSTM Classifier ---\n",
        "class LSTMClassifier(nn.Module):\n",
        "    def __init__(self, vocab_size, embed_dim, hidden_dim, output_dim, embedding_matrix):\n",
        "        super(LSTMClassifier, self).__init__()\n",
        "\n",
        "        # Load pre-trained embeddings, allow tuning (freeze=False)\n",
        "        self.embedding = nn.Embedding.from_pretrained(torch.FloatTensor(embedding_matrix), freeze=False, padding_idx=0)\n",
        "\n",
        "        # Bidirectional LSTM with 2 layers and dropout\n",
        "        self.lstm = nn.LSTM(\n",
        "            embed_dim,\n",
        "            hidden_dim,\n",
        "            num_layers=2,\n",
        "            batch_first=True,\n",
        "            dropout=0.3,\n",
        "            bidirectional=True  # ✅ Make LSTM bidirectional\n",
        "        )\n",
        "\n",
        "        # Fully connected layer expects hidden_dim * 2 due to bidirectionality\n",
        "        self.fc = nn.Linear(hidden_dim * 2, output_dim)\n",
        "\n",
        "    def forward(self, x):\n",
        "        x = self.embedding(x)  # Shape: (batch_size, seq_length, embed_dim)\n",
        "        _, (hidden, _) = self.lstm(x)  # hidden shape: (num_layers * num_directions, batch_size, hidden_dim)\n",
        "\n",
        "        # For bidirectional: concatenate top layer forward and backward hidden states\n",
        "        forward_hidden = hidden[-2]  # Forward direction\n",
        "        backward_hidden = hidden[-1] # Backward direction\n",
        "        combined = torch.cat((forward_hidden, backward_hidden), dim=1)  # Shape: (batch_size, hidden_dim * 2)\n",
        "\n",
        "        return self.fc(combined)\n",
        "\n",
        "# --- 3. Instantiate and Train the Model ---\n",
        "# Create the model\n",
        "model = LSTMClassifier(len(word_to_index), 100, 128, 3, embedding_matrix).to(device) # Corrected vocab_size\n",
        "                                                                                     # to use len(word_to_index)\n",
        "# Define optimizer\n",
        "optimizer = optim.Adam(model.parameters(), lr=0.001)\n",
        "\n",
        "# Model is now ready to be trained using your existing training loop."
      ],
      "metadata": {
        "id": "4cyHx2rCd9F8"
      },
      "id": "4cyHx2rCd9F8",
      "execution_count": 8,
      "outputs": []
    },
    {
      "cell_type": "code",
      "source": [
        "import wandb\n",
        "import matplotlib.pyplot as plt\n",
        "\n",
        "# Optional: Log model architecture as a config\n",
        "wandb.init(\n",
        "    project=\"Sentiment-LSTM-GloVe\",\n",
        "    name=\"Test2_LSTM_GloVe\",\n",
        "    config={\n",
        "        \"model\": \"LSTM\",\n",
        "        \"embedding\": \"GloVe\",\n",
        "        \"hidden_dim\": 128,\n",
        "        \"dropout\": 0.3,\n",
        "        \"batch_size\": 64,\n",
        "        \"learning_rate\": 0.001,\n",
        "        \"epochs\": 10\n",
        "    }\n",
        ")\n",
        "\n",
        "train_losses = []\n",
        "for epoch in range(10):\n",
        "    model.train()\n",
        "    total_loss = 0\n",
        "    correct = 0\n",
        "    total = 0\n",
        "\n",
        "    for texts, labels in train_loader:\n",
        "        texts = texts.to(device)\n",
        "        labels = labels.to(device)\n",
        "\n",
        "        outputs = model(texts)\n",
        "        loss = criterion(outputs, labels)\n",
        "\n",
        "        optimizer.zero_grad()\n",
        "        loss.backward()\n",
        "        optimizer.step()\n",
        "\n",
        "        total_loss += loss.item()\n",
        "\n",
        "        # Calculate accuracy\n",
        "        _, predicted = torch.max(outputs, 1)\n",
        "        correct += (predicted == labels).sum().item()\n",
        "        total += labels.size(0)\n",
        "\n",
        "    avg_loss = total_loss / len(train_loader)\n",
        "    accuracy = correct / total\n",
        "\n",
        "    train_losses.append(avg_loss)\n",
        "    print(f\"Epoch {epoch+1}: Loss = {avg_loss:.4f}, Accuracy = {accuracy:.4f}\")\n",
        "\n",
        "    # 🟢 Log to WandB\n",
        "    wandb.log({\n",
        "        \"epoch\": epoch + 1,\n",
        "        \"train_loss\": avg_loss,\n",
        "        \"train_accuracy\": accuracy\n",
        "    })\n",
        "\n",
        "# Final loss curve\n",
        "plt.plot(train_losses)\n",
        "plt.title(\"Training Loss Over Epochs\")\n",
        "plt.xlabel(\"Epoch\")\n",
        "plt.ylabel(\"Loss\")\n",
        "plt.grid(True)\n",
        "plt.show()\n",
        "\n",
        "\n"
      ],
      "metadata": {
        "colab": {
          "base_uri": "https://localhost:8080/",
          "height": 1000
        },
        "id": "LyYQeH5SegT9",
        "outputId": "6178573a-2153-42e2-ceab-3c1421405130"
      },
      "id": "LyYQeH5SegT9",
      "execution_count": 9,
      "outputs": [
        {
          "output_type": "display_data",
          "data": {
            "text/plain": [
              "<IPython.core.display.HTML object>"
            ],
            "text/html": [
              "Finishing previous runs because reinit is set to 'default'."
            ]
          },
          "metadata": {}
        },
        {
          "output_type": "display_data",
          "data": {
            "text/plain": [
              "<IPython.core.display.HTML object>"
            ],
            "text/html": []
          },
          "metadata": {}
        },
        {
          "output_type": "display_data",
          "data": {
            "text/plain": [
              "<IPython.core.display.HTML object>"
            ],
            "text/html": [
              " View run <strong style=\"color:#cdcd00\">Test2_LSTM_GloVe</strong> at: <a href='https://wandb.ai/samraggig55-city-university-of-london/Sentiment-LSTM-GloVe/runs/wkjn4j4u' target=\"_blank\">https://wandb.ai/samraggig55-city-university-of-london/Sentiment-LSTM-GloVe/runs/wkjn4j4u</a><br> View project at: <a href='https://wandb.ai/samraggig55-city-university-of-london/Sentiment-LSTM-GloVe' target=\"_blank\">https://wandb.ai/samraggig55-city-university-of-london/Sentiment-LSTM-GloVe</a><br>Synced 5 W&B file(s), 0 media file(s), 0 artifact file(s) and 0 other file(s)"
            ]
          },
          "metadata": {}
        },
        {
          "output_type": "display_data",
          "data": {
            "text/plain": [
              "<IPython.core.display.HTML object>"
            ],
            "text/html": [
              "Find logs at: <code>./wandb/run-20250526_231700-wkjn4j4u/logs</code>"
            ]
          },
          "metadata": {}
        },
        {
          "output_type": "display_data",
          "data": {
            "text/plain": [
              "<IPython.core.display.HTML object>"
            ],
            "text/html": [
              "Tracking run with wandb version 0.19.11"
            ]
          },
          "metadata": {}
        },
        {
          "output_type": "display_data",
          "data": {
            "text/plain": [
              "<IPython.core.display.HTML object>"
            ],
            "text/html": [
              "Run data is saved locally in <code>/content/wandb/run-20250526_231711-gcgtadj8</code>"
            ]
          },
          "metadata": {}
        },
        {
          "output_type": "display_data",
          "data": {
            "text/plain": [
              "<IPython.core.display.HTML object>"
            ],
            "text/html": [
              "Syncing run <strong><a href='https://wandb.ai/samraggig55-city-university-of-london/Sentiment-LSTM-GloVe/runs/gcgtadj8' target=\"_blank\">Test2_LSTM_GloVe</a></strong> to <a href='https://wandb.ai/samraggig55-city-university-of-london/Sentiment-LSTM-GloVe' target=\"_blank\">Weights & Biases</a> (<a href='https://wandb.me/developer-guide' target=\"_blank\">docs</a>)<br>"
            ]
          },
          "metadata": {}
        },
        {
          "output_type": "display_data",
          "data": {
            "text/plain": [
              "<IPython.core.display.HTML object>"
            ],
            "text/html": [
              " View project at <a href='https://wandb.ai/samraggig55-city-university-of-london/Sentiment-LSTM-GloVe' target=\"_blank\">https://wandb.ai/samraggig55-city-university-of-london/Sentiment-LSTM-GloVe</a>"
            ]
          },
          "metadata": {}
        },
        {
          "output_type": "display_data",
          "data": {
            "text/plain": [
              "<IPython.core.display.HTML object>"
            ],
            "text/html": [
              " View run at <a href='https://wandb.ai/samraggig55-city-university-of-london/Sentiment-LSTM-GloVe/runs/gcgtadj8' target=\"_blank\">https://wandb.ai/samraggig55-city-university-of-london/Sentiment-LSTM-GloVe/runs/gcgtadj8</a>"
            ]
          },
          "metadata": {}
        },
        {
          "output_type": "stream",
          "name": "stdout",
          "text": [
            "Epoch 1: Loss = 0.7773, Accuracy = 0.6845\n",
            "Epoch 2: Loss = 0.5485, Accuracy = 0.7917\n",
            "Epoch 3: Loss = 0.4335, Accuracy = 0.8425\n",
            "Epoch 4: Loss = 0.3374, Accuracy = 0.8820\n",
            "Epoch 5: Loss = 0.2551, Accuracy = 0.9079\n",
            "Epoch 6: Loss = 0.1953, Accuracy = 0.9327\n",
            "Epoch 7: Loss = 0.1571, Accuracy = 0.9473\n",
            "Epoch 8: Loss = 0.1327, Accuracy = 0.9557\n",
            "Epoch 9: Loss = 0.1201, Accuracy = 0.9585\n",
            "Epoch 10: Loss = 0.0965, Accuracy = 0.9689\n"
          ]
        },
        {
          "output_type": "display_data",
          "data": {
            "text/plain": [
              "<Figure size 640x480 with 1 Axes>"
            ],
            "image/png": "[encoded data removed]"
          },
          "metadata": {}
        },
        {
          "output_type": "display_data",
          "data": {
            "text/plain": [
              "<IPython.core.display.HTML object>"
            ],
            "text/html": []
          },
          "metadata": {}
        },
        {
          "output_type": "display_data",
          "data": {
            "text/plain": [
              "<IPython.core.display.HTML object>"
            ],
            "text/html": [
              "<br>    <style><br>        .wandb-row {<br>            display: flex;<br>            flex-direction: row;<br>            flex-wrap: wrap;<br>            justify-content: flex-start;<br>            width: 100%;<br>        }<br>        .wandb-col {<br>            display: flex;<br>            flex-direction: column;<br>            flex-basis: 100%;<br>            flex: 1;<br>            padding: 10px;<br>        }<br>    </style><br><div class=\"wandb-row\"><div class=\"wandb-col\"><h3>Run history:</h3><br/><table class=\"wandb\"><tr><td>epoch</td><td>▁▂▃▃▄▅▆▆▇█</td></tr><tr><td>train_accuracy</td><td>▁▄▅▆▆▇▇███</td></tr><tr><td>train_loss</td><td>█▆▄▃▃▂▂▁▁▁</td></tr></table><br/></div><div class=\"wandb-col\"><h3>Run summary:</h3><br/><table class=\"wandb\"><tr><td>epoch</td><td>10</td></tr><tr><td>train_accuracy</td><td>0.96892</td></tr><tr><td>train_loss</td><td>0.09651</td></tr></table><br/></div></div>"
            ]
          },
          "metadata": {}
        },
        {
          "output_type": "display_data",
          "data": {
            "text/plain": [
              "<IPython.core.display.HTML object>"
            ],
            "text/html": [
              " View run <strong style=\"color:#cdcd00\">Test2_LSTM_GloVe</strong> at: <a href='https://wandb.ai/samraggig55-city-university-of-london/Sentiment-LSTM-GloVe/runs/gcgtadj8' target=\"_blank\">https://wandb.ai/samraggig55-city-university-of-london/Sentiment-LSTM-GloVe/runs/gcgtadj8</a><br> View project at: <a href='https://wandb.ai/samraggig55-city-university-of-london/Sentiment-LSTM-GloVe' target=\"_blank\">https://wandb.ai/samraggig55-city-university-of-london/Sentiment-LSTM-GloVe</a><br>Synced 5 W&B file(s), 0 media file(s), 0 artifact file(s) and 0 other file(s)"
            ]
          },
          "metadata": {}
        },
        {
          "output_type": "display_data",
          "data": {
            "text/plain": [
              "<IPython.core.display.HTML object>"
            ],
            "text/html": [
              "Find logs at: <code>./wandb/run-20250526_231711-gcgtadj8/logs</code>"
            ]
          },
          "metadata": {}
        }
      ]
    },
    {
      "cell_type": "code",
      "source": [
        "import wandb\n",
        "\n",
        "# Ensure a WandB run is active\n",
        "wandb.login()\n",
        "\n",
        "wandb.init(\n",
        "    project=\"Sentiment-LSTM-GloVe\",\n",
        "    name=\"Eval_Metrics_Only\"\n",
        ")\n"
      ],
      "metadata": {
        "colab": {
          "base_uri": "https://localhost:8080/",
          "height": 125
        },
        "id": "lzi_e8aknVeX",
        "outputId": "2871b243-0bdd-4874-86f9-2458bb3ddbf7"
      },
      "id": "lzi_e8aknVeX",
      "execution_count": 10,
      "outputs": [
        {
          "output_type": "display_data",
          "data": {
            "text/plain": [
              "<IPython.core.display.HTML object>"
            ],
            "text/html": [
              "Tracking run with wandb version 0.19.11"
            ]
          },
          "metadata": {}
        },
        {
          "output_type": "display_data",
          "data": {
            "text/plain": [
              "<IPython.core.display.HTML object>"
            ],
            "text/html": [
              "Run data is saved locally in <code>/content/wandb/run-20250526_231745-se2hwso4</code>"
            ]
          },
          "metadata": {}
        },
        {
          "output_type": "display_data",
          "data": {
            "text/plain": [
              "<IPython.core.display.HTML object>"
            ],
            "text/html": [
              "Syncing run <strong><a href='https://wandb.ai/samraggig55-city-university-of-london/Sentiment-LSTM-GloVe/runs/se2hwso4' target=\"_blank\">Eval_Metrics_Only</a></strong> to <a href='https://wandb.ai/samraggig55-city-university-of-london/Sentiment-LSTM-GloVe' target=\"_blank\">Weights & Biases</a> (<a href='https://wandb.me/developer-guide' target=\"_blank\">docs</a>)<br>"
            ]
          },
          "metadata": {}
        },
        {
          "output_type": "display_data",
          "data": {
            "text/plain": [
              "<IPython.core.display.HTML object>"
            ],
            "text/html": [
              " View project at <a href='https://wandb.ai/samraggig55-city-university-of-london/Sentiment-LSTM-GloVe' target=\"_blank\">https://wandb.ai/samraggig55-city-university-of-london/Sentiment-LSTM-GloVe</a>"
            ]
          },
          "metadata": {}
        },
        {
          "output_type": "display_data",
          "data": {
            "text/plain": [
              "<IPython.core.display.HTML object>"
            ],
            "text/html": [
              " View run at <a href='https://wandb.ai/samraggig55-city-university-of-london/Sentiment-LSTM-GloVe/runs/se2hwso4' target=\"_blank\">https://wandb.ai/samraggig55-city-university-of-london/Sentiment-LSTM-GloVe/runs/se2hwso4</a>"
            ]
          },
          "metadata": {}
        },
        {
          "output_type": "execute_result",
          "data": {
            "text/html": [
              "<button onClick=\"this.nextSibling.style.display='block';this.style.display='none';\">Display W&B run</button><iframe src='https://wandb.ai/samraggig55-city-university-of-london/Sentiment-LSTM-GloVe/runs/se2hwso4?jupyter=true' style='border:none;width:100%;height:420px;display:none;'></iframe>"
            ],
            "text/plain": [
              "<wandb.sdk.wandb_run.Run at 0x7ce090709ed0>"
            ]
          },
          "metadata": {},
          "execution_count": 10
        }
      ]
    },
    {
      "cell_type": "code",
      "source": [
        "# Evaluate test accuracy\n",
        "model.eval()\n",
        "correct = 0\n",
        "total = 0\n",
        "\n",
        "with torch.no_grad():\n",
        "    for texts, labels in test_loader:\n",
        "        texts = texts.to(device)\n",
        "        labels = labels.to(device)\n",
        "        outputs = model(texts)\n",
        "        _, predicted = torch.max(outputs.data, 1)\n",
        "        total += labels.size(0)\n",
        "        correct += (predicted == labels).sum().item()\n",
        "\n",
        "final_accuracy = 100 * correct / total\n",
        "print(f\"Final Test Accuracy: {final_accuracy:.2f}%\")\n",
        "\n",
        "\n"
      ],
      "metadata": {
        "id": "j-rbvyASREFh",
        "outputId": "e87d5fc6-aa0b-4b2f-db09-80177219a4d0",
        "colab": {
          "base_uri": "https://localhost:8080/"
        }
      },
      "id": "j-rbvyASREFh",
      "execution_count": 14,
      "outputs": [
        {
          "output_type": "stream",
          "name": "stdout",
          "text": [
            "Final Test Accuracy: 77.22%\n"
          ]
        }
      ]
    },
    {
      "cell_type": "code",
      "source": [
        "# 🟢 Start a WandB run (required before wandb.log)\n",
        "import wandb\n",
        "wandb.login()\n",
        "wandb.init(\n",
        "    project=\"Sentiment-LSTM-GloVe\",\n",
        "    name=\"Eval_Metrics_Only\"\n",
        ")\n",
        "\n",
        "from sklearn.metrics import classification_report, confusion_matrix\n",
        "import seaborn as sns\n",
        "import matplotlib.pyplot as plt\n",
        "\n",
        "model.eval()\n",
        "all_preds, all_labels = [], []\n",
        "\n",
        "with torch.no_grad():\n",
        "    for texts, labels in test_loader:\n",
        "        texts = texts.to(device)\n",
        "        labels = labels.to(device)\n",
        "\n",
        "        outputs = model(texts)\n",
        "        _, predicted = torch.max(outputs, 1)\n",
        "        all_preds.extend(predicted.cpu().numpy())\n",
        "        all_labels.extend(labels.cpu().numpy())\n",
        "\n",
        "# Generate classification report\n",
        "report = classification_report(\n",
        "    all_labels,\n",
        "    all_preds,\n",
        "    target_names=[\"Negative\", \"Neutral\", \"Positive\"],\n",
        "    output_dict=True\n",
        ")\n",
        "\n",
        "# ✅ WandB logging (after wandb.init)\n",
        "wandb.log({\n",
        "    \"test_accuracy\": report['accuracy'],\n",
        "    \"f1_macro\": report['macro avg']['f1-score'],\n",
        "    \"f1_negative\": report['Negative']['f1-score'],\n",
        "    \"f1_neutral\": report['Neutral']['f1-score'],\n",
        "    \"f1_positive\": report['Positive']['f1-score'],\n",
        "    \"precision_positive\": report['Positive']['precision'],\n",
        "    \"recall_positive\": report['Positive']['recall']\n",
        "})\n",
        "\n",
        "# Create and log confusion matrix\n",
        "cm = confusion_matrix(all_labels, all_preds)\n",
        "fig = plt.figure(figsize=(6, 5))\n",
        "sns.heatmap(cm, annot=True, fmt='d', cmap='Blues',\n",
        "            xticklabels=[\"Negative\", \"Neutral\", \"Positive\"],\n",
        "            yticklabels=[\"Negative\", \"Neutral\", \"Positive\"])\n",
        "plt.title(\"Confusion Matrix - LSTM with GloVe\")\n",
        "plt.xlabel(\"Predicted\")\n",
        "plt.ylabel(\"True\")\n",
        "plt.tight_layout()\n",
        "\n",
        "wandb.log({\"Confusion Matrix\": wandb.Image(fig)})\n",
        "\n",
        "# Show plot\n",
        "plt.show()\n",
        "\n",
        "# ✅ End run after logging everything\n",
        "wandb.finish()\n"
      ],
      "metadata": {
        "colab": {
          "base_uri": "https://localhost:8080/",
          "height": 1000
        },
        "id": "aw9Y0OipnZEm",
        "outputId": "e161bb19-6aa5-4311-d988-9706f3931aa5"
      },
      "id": "aw9Y0OipnZEm",
      "execution_count": 11,
      "outputs": [
        {
          "output_type": "stream",
          "name": "stderr",
          "text": [
            "\u001b[34m\u001b[1mwandb\u001b[0m: \u001b[33mWARNING\u001b[0m Calling wandb.login() after wandb.init() has no effect.\n"
          ]
        },
        {
          "output_type": "display_data",
          "data": {
            "text/plain": [
              "<IPython.core.display.HTML object>"
            ],
            "text/html": [
              "Finishing previous runs because reinit is set to 'default'."
            ]
          },
          "metadata": {}
        },
        {
          "output_type": "display_data",
          "data": {
            "text/plain": [
              "<IPython.core.display.HTML object>"
            ],
            "text/html": []
          },
          "metadata": {}
        },
        {
          "output_type": "display_data",
          "data": {
            "text/plain": [
              "<IPython.core.display.HTML object>"
            ],
            "text/html": [
              " View run <strong style=\"color:#cdcd00\">Eval_Metrics_Only</strong> at: <a href='https://wandb.ai/samraggig55-city-university-of-london/Sentiment-LSTM-GloVe/runs/se2hwso4' target=\"_blank\">https://wandb.ai/samraggig55-city-university-of-london/Sentiment-LSTM-GloVe/runs/se2hwso4</a><br> View project at: <a href='https://wandb.ai/samraggig55-city-university-of-london/Sentiment-LSTM-GloVe' target=\"_blank\">https://wandb.ai/samraggig55-city-university-of-london/Sentiment-LSTM-GloVe</a><br>Synced 5 W&B file(s), 0 media file(s), 0 artifact file(s) and 0 other file(s)"
            ]
          },
          "metadata": {}
        },
        {
          "output_type": "display_data",
          "data": {
            "text/plain": [
              "<IPython.core.display.HTML object>"
            ],
            "text/html": [
              "Find logs at: <code>./wandb/run-20250526_231745-se2hwso4/logs</code>"
            ]
          },
          "metadata": {}
        },
        {
          "output_type": "display_data",
          "data": {
            "text/plain": [
              "<IPython.core.display.HTML object>"
            ],
            "text/html": [
              "Tracking run with wandb version 0.19.11"
            ]
          },
          "metadata": {}
        },
        {
          "output_type": "display_data",
          "data": {
            "text/plain": [
              "<IPython.core.display.HTML object>"
            ],
            "text/html": [
              "Run data is saved locally in <code>/content/wandb/run-20250526_231746-cs2kwcmg</code>"
            ]
          },
          "metadata": {}
        },
        {
          "output_type": "display_data",
          "data": {
            "text/plain": [
              "<IPython.core.display.HTML object>"
            ],
            "text/html": [
              "Syncing run <strong><a href='https://wandb.ai/samraggig55-city-university-of-london/Sentiment-LSTM-GloVe/runs/cs2kwcmg' target=\"_blank\">Eval_Metrics_Only</a></strong> to <a href='https://wandb.ai/samraggig55-city-university-of-london/Sentiment-LSTM-GloVe' target=\"_blank\">Weights & Biases</a> (<a href='https://wandb.me/developer-guide' target=\"_blank\">docs</a>)<br>"
            ]
          },
          "metadata": {}
        },
        {
          "output_type": "display_data",
          "data": {
            "text/plain": [
              "<IPython.core.display.HTML object>"
            ],
            "text/html": [
              " View project at <a href='https://wandb.ai/samraggig55-city-university-of-london/Sentiment-LSTM-GloVe' target=\"_blank\">https://wandb.ai/samraggig55-city-university-of-london/Sentiment-LSTM-GloVe</a>"
            ]
          },
          "metadata": {}
        },
        {
          "output_type": "display_data",
          "data": {
            "text/plain": [
              "<IPython.core.display.HTML object>"
            ],
            "text/html": [
              " View run at <a href='https://wandb.ai/samraggig55-city-university-of-london/Sentiment-LSTM-GloVe/runs/cs2kwcmg' target=\"_blank\">https://wandb.ai/samraggig55-city-university-of-london/Sentiment-LSTM-GloVe/runs/cs2kwcmg</a>"
            ]
          },
          "metadata": {}
        },
        {
          "output_type": "display_data",
          "data": {
            "text/plain": [
              "<Figure size 600x500 with 2 Axes>"
            ],
            "image/png": "[encoded data removed]"
          },
          "metadata": {}
        },
        {
          "output_type": "display_data",
          "data": {
            "text/plain": [
              "<IPython.core.display.HTML object>"
            ],
            "text/html": []
          },
          "metadata": {}
        },
        {
          "output_type": "display_data",
          "data": {
            "text/plain": [
              "<IPython.core.display.HTML object>"
            ],
            "text/html": [
              "<br>    <style><br>        .wandb-row {<br>            display: flex;<br>            flex-direction: row;<br>            flex-wrap: wrap;<br>            justify-content: flex-start;<br>            width: 100%;<br>        }<br>        .wandb-col {<br>            display: flex;<br>            flex-direction: column;<br>            flex-basis: 100%;<br>            flex: 1;<br>            padding: 10px;<br>        }<br>    </style><br><div class=\"wandb-row\"><div class=\"wandb-col\"><h3>Run history:</h3><br/><table class=\"wandb\"><tr><td>f1_macro</td><td>▁</td></tr><tr><td>f1_negative</td><td>▁</td></tr><tr><td>f1_neutral</td><td>▁</td></tr><tr><td>f1_positive</td><td>▁</td></tr><tr><td>precision_positive</td><td>▁</td></tr><tr><td>recall_positive</td><td>▁</td></tr><tr><td>test_accuracy</td><td>▁</td></tr></table><br/></div><div class=\"wandb-col\"><h3>Run summary:</h3><br/><table class=\"wandb\"><tr><td>f1_macro</td><td>0.71973</td></tr><tr><td>f1_negative</td><td>0.84979</td></tr><tr><td>f1_neutral</td><td>0.60047</td></tr><tr><td>f1_positive</td><td>0.70894</td></tr><tr><td>precision_positive</td><td>0.69734</td></tr><tr><td>recall_positive</td><td>0.72093</td></tr><tr><td>test_accuracy</td><td>0.7722</td></tr></table><br/></div></div>"
            ]
          },
          "metadata": {}
        },
        {
          "output_type": "display_data",
          "data": {
            "text/plain": [
              "<IPython.core.display.HTML object>"
            ],
            "text/html": [
              " View run <strong style=\"color:#cdcd00\">Eval_Metrics_Only</strong> at: <a href='https://wandb.ai/samraggig55-city-university-of-london/Sentiment-LSTM-GloVe/runs/cs2kwcmg' target=\"_blank\">https://wandb.ai/samraggig55-city-university-of-london/Sentiment-LSTM-GloVe/runs/cs2kwcmg</a><br> View project at: <a href='https://wandb.ai/samraggig55-city-university-of-london/Sentiment-LSTM-GloVe' target=\"_blank\">https://wandb.ai/samraggig55-city-university-of-london/Sentiment-LSTM-GloVe</a><br>Synced 5 W&B file(s), 1 media file(s), 0 artifact file(s) and 0 other file(s)"
            ]
          },
          "metadata": {}
        },
        {
          "output_type": "display_data",
          "data": {
            "text/plain": [
              "<IPython.core.display.HTML object>"
            ],
            "text/html": [
              "Find logs at: <code>./wandb/run-20250526_231746-cs2kwcmg/logs</code>"
            ]
          },
          "metadata": {}
        }
      ]
    }
  ],
  "metadata": {
    "colab": {
      "provenance": [],
      "gpuType": "T4",
      "include_colab_link": true
    },
    "kernelspec": {
      "display_name": "Python 3",
      "name": "python3"
    },
    "language_info": {
      "name": "python"
    },
    "accelerator": "GPU"
  },
  "nbformat": 4,
  "nbformat_minor": 5
}